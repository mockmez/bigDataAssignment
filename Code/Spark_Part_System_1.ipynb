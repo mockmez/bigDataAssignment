{
  "cells": [
    {
      "cell_type": "markdown",
      "metadata": {
        "id": "068uuDtQ5YfY"
      },
      "source": [
        "# Setting up Pyspark"
      ]
    },
    {
      "cell_type": "markdown",
      "metadata": {
        "id": "bVA_Kvh1u9KD"
      },
      "source": [
        "Installing Java"
      ]
    },
    {
      "cell_type": "code",
      "execution_count": 1,
      "metadata": {
        "id": "MyaggQIN62uA"
      },
      "outputs": [],
      "source": [
        "!apt-get install openjdk-8-jdk-headless -qq > /dev/null"
      ]
    },
    {
      "cell_type": "markdown",
      "metadata": {
        "id": "OY23qLTU7D-J"
      },
      "source": [
        "Installing Apache Spark and Hadoop:"
      ]
    },
    {
      "cell_type": "code",
      "execution_count": 2,
      "metadata": {
        "colab": {
          "base_uri": "https://localhost:8080/"
        },
        "id": "7RowfBl6qwyQ",
        "outputId": "abe7e67a-09a9-4ce6-83a7-765ae1ffb372"
      },
      "outputs": [
        {
          "output_type": "stream",
          "name": "stdout",
          "text": [
            "--2025-03-22 14:03:19--  https://archive.apache.org/dist/spark/spark-3.5.3/spark-3.5.3-bin-hadoop3.tgz\n",
            "Resolving archive.apache.org (archive.apache.org)... 65.108.204.189, 2a01:4f9:1a:a084::2\n",
            "Connecting to archive.apache.org (archive.apache.org)|65.108.204.189|:443... connected.\n",
            "HTTP request sent, awaiting response... 200 OK\n",
            "Length: 400864419 (382M) [application/x-gzip]\n",
            "Saving to: ‘spark-3.5.3-bin-hadoop3.tgz’\n",
            "\n",
            "spark-3.5.3-bin-had 100%[===================>] 382.29M  23.2MB/s    in 21s     \n",
            "\n",
            "2025-03-22 14:03:40 (18.4 MB/s) - ‘spark-3.5.3-bin-hadoop3.tgz’ saved [400864419/400864419]\n",
            "\n"
          ]
        }
      ],
      "source": [
        "!wget https://archive.apache.org/dist/spark/spark-3.5.3/spark-3.5.3-bin-hadoop3.tgz\n",
        "!tar xf spark-3.5.3-bin-hadoop3.tgz\n",
        "!rm spark-3.5.3-bin-hadoop3.tgz   # Tidying up"
      ]
    },
    {
      "cell_type": "markdown",
      "metadata": {
        "id": "f8LKgSzVvEK6"
      },
      "source": [
        "Setting up environmental variables:"
      ]
    },
    {
      "cell_type": "code",
      "execution_count": 3,
      "metadata": {
        "id": "W1zHRRH_LOYm"
      },
      "outputs": [],
      "source": [
        "import os\n",
        "os.environ[\"JAVA_HOME\"] = \"/usr/lib/jvm/java-8-openjdk-amd64\"\n",
        "os.environ[\"SPARK_HOME\"] = \"/content/spark-3.5.3-bin-hadoop3\""
      ]
    },
    {
      "cell_type": "markdown",
      "metadata": {
        "id": "ym1-BRw57NRb"
      },
      "source": [
        "Install the findpark"
      ]
    },
    {
      "cell_type": "code",
      "execution_count": 4,
      "metadata": {
        "id": "bn4a42HB9gAO"
      },
      "outputs": [],
      "source": [
        "!pip install -q findspark\n",
        "import findspark\n",
        "findspark.init()"
      ]
    },
    {
      "cell_type": "markdown",
      "metadata": {
        "id": "w7DeB6L9-XzM"
      },
      "source": [
        "Create the entry point to Spark."
      ]
    },
    {
      "cell_type": "code",
      "execution_count": 5,
      "metadata": {
        "colab": {
          "base_uri": "https://localhost:8080/",
          "height": 219
        },
        "id": "wfV06lLe938e",
        "outputId": "40ceaadf-b2a1-4492-b3ec-b045fdf54e5c"
      },
      "outputs": [
        {
          "output_type": "execute_result",
          "data": {
            "text/plain": [
              "<pyspark.sql.session.SparkSession at 0x7af31cf81f90>"
            ],
            "text/html": [
              "\n",
              "            <div>\n",
              "                <p><b>SparkSession - in-memory</b></p>\n",
              "                \n",
              "        <div>\n",
              "            <p><b>SparkContext</b></p>\n",
              "\n",
              "            <p><a href=\"http://2e5bf919898f:4040\">Spark UI</a></p>\n",
              "\n",
              "            <dl>\n",
              "              <dt>Version</dt>\n",
              "                <dd><code>v3.5.3</code></dd>\n",
              "              <dt>Master</dt>\n",
              "                <dd><code>local[*]</code></dd>\n",
              "              <dt>AppName</dt>\n",
              "                <dd><code>pyspark-shell</code></dd>\n",
              "            </dl>\n",
              "        </div>\n",
              "        \n",
              "            </div>\n",
              "        "
            ]
          },
          "metadata": {},
          "execution_count": 5
        }
      ],
      "source": [
        "from pyspark.sql import SparkSession\n",
        "spark = SparkSession.builder.master(\"local[*]\").config(\"spark.driver.memory\", \"10g\").getOrCreate()\n",
        "spark.conf.set(\"spark.sql.repl.eagerEval.enabled\", True) #  This will format our output tables a bit nicer when not using the show() method\n",
        "spark"
      ]
    },
    {
      "cell_type": "markdown",
      "metadata": {
        "id": "-2r6mQiyvrbw"
      },
      "source": [
        "Creating the SparkContext"
      ]
    },
    {
      "cell_type": "code",
      "execution_count": 6,
      "metadata": {
        "id": "4HQ8vtcc9C6R"
      },
      "outputs": [],
      "source": [
        "sc = spark.sparkContext"
      ]
    },
    {
      "cell_type": "code",
      "source": [
        "# print(spark.sparkContext._conf.set(\"spark.driver.memory\", '4g'))\n",
        "# print(spark.sparkContext._conf.get(\"spark.driver.memory\"))"
      ],
      "metadata": {
        "id": "VoMEv8wDHii3"
      },
      "execution_count": null,
      "outputs": []
    },
    {
      "cell_type": "markdown",
      "metadata": {
        "id": "XqJ6Jfg2vvuI"
      },
      "source": [
        "# Importing our datasets"
      ]
    },
    {
      "cell_type": "markdown",
      "metadata": {
        "id": "68wfcEopz0Dd"
      },
      "source": [
        "Books.csv"
      ]
    },
    {
      "cell_type": "code",
      "execution_count": 7,
      "metadata": {
        "colab": {
          "base_uri": "https://localhost:8080/"
        },
        "id": "Y6xoJDt5tAIs",
        "outputId": "b7c3a8d9-7ac5-41a7-dddf-594325c5570a"
      },
      "outputs": [
        {
          "output_type": "stream",
          "name": "stdout",
          "text": [
            "Downloading from https://www.kaggle.com/api/v1/datasets/download/trnnhtminh/goodread-books-ratings?dataset_version_number=1...\n"
          ]
        },
        {
          "output_type": "stream",
          "name": "stderr",
          "text": [
            "100%|██████████| 1.48G/1.48G [00:17<00:00, 92.3MB/s]"
          ]
        },
        {
          "output_type": "stream",
          "name": "stdout",
          "text": [
            "Extracting files...\n"
          ]
        },
        {
          "output_type": "stream",
          "name": "stderr",
          "text": [
            "\n"
          ]
        },
        {
          "output_type": "stream",
          "name": "stdout",
          "text": [
            "Path to dataset files: /root/.cache/kagglehub/datasets/trnnhtminh/goodread-books-ratings/versions/1\n",
            "Books.csv  sample_data\tspark-3.5.3-bin-hadoop3\n"
          ]
        }
      ],
      "source": [
        "import kagglehub\n",
        "path = kagglehub.dataset_download(\"trnnhtminh/goodread-books-ratings\")\n",
        "print(\"Path to dataset files:\", path)\n",
        "!mv {path}/merged_books_ratings.csv .\n",
        "!mv merged_books_ratings.csv Books.csv\n",
        "!ls"
      ]
    },
    {
      "cell_type": "markdown",
      "metadata": {
        "id": "Vl9DHiRZz1fa"
      },
      "source": [
        "Genres.csv. Because that file is created halfway through the data processing, it has to be uploaded manually. Below are two options: from google drive or a local directory."
      ]
    },
    {
      "cell_type": "code",
      "execution_count": 8,
      "metadata": {
        "colab": {
          "base_uri": "https://localhost:8080/"
        },
        "id": "JmCpYGhc0NOr",
        "outputId": "bb1066a2-9150-45b7-c2c3-d029f61582f9"
      },
      "outputs": [
        {
          "output_type": "stream",
          "name": "stdout",
          "text": [
            "/usr/local/lib/python3.11/dist-packages/gdown/__main__.py:140: FutureWarning: Option `--id` was deprecated in version 4.3.1 and will be removed in 5.0. You don't need to pass it anymore to use a file ID.\n",
            "  warnings.warn(\n",
            "Downloading...\n",
            "From: https://drive.google.com/uc?id=15kIXt9psvX12bvFbzg8WST6k8WaO_pYt\n",
            "To: /content/Genres.csv\n",
            "100% 874k/874k [00:00<00:00, 104MB/s]\n",
            "/usr/local/lib/python3.11/dist-packages/gdown/__main__.py:140: FutureWarning: Option `--id` was deprecated in version 4.3.1 and will be removed in 5.0. You don't need to pass it anymore to use a file ID.\n",
            "  warnings.warn(\n",
            "Downloading...\n",
            "From (original): https://drive.google.com/uc?id=1PAQKjrUUei5DiOEqoRpJw3t0hoTFTtpf\n",
            "From (redirected): https://drive.google.com/uc?id=1PAQKjrUUei5DiOEqoRpJw3t0hoTFTtpf&confirm=t&uuid=4c1c10b8-9355-4339-a697-60e55746dddc\n",
            "To: /content/Ratings.csv\n",
            "100% 527M/527M [00:09<00:00, 56.1MB/s]\n"
          ]
        }
      ],
      "source": [
        "# from google drive. If this doesn't work, check that the file has access set to \"anyone with the link\", and that the id (after /d/ in the link to the file) is correct\n",
        "!gdown --id 15kIXt9psvX12bvFbzg8WST6k8WaO_pYt\n",
        "!gdown --id 1PAQKjrUUei5DiOEqoRpJw3t0hoTFTtpf"
      ]
    },
    {
      "cell_type": "code",
      "execution_count": null,
      "metadata": {
        "id": "-qC5nfhhzzQr"
      },
      "outputs": [],
      "source": [
        "# from a local directory\n",
        "# from google.colab import files\n",
        "# uploaded = files.upload()"
      ]
    },
    {
      "cell_type": "code",
      "execution_count": 9,
      "metadata": {
        "id": "LAh3WEFn2l48"
      },
      "outputs": [],
      "source": [
        "books = sc.textFile(\"Books.csv\")\n",
        "genres = sc.textFile(\"Genres.csv\")\n",
        "ratings = sc.textFile(\"Ratings.csv\")"
      ]
    },
    {
      "cell_type": "code",
      "execution_count": null,
      "metadata": {
        "colab": {
          "base_uri": "https://localhost:8080/"
        },
        "id": "ZXAWVBaSH-HD",
        "outputId": "e84a8cd9-04ff-4152-8c30-709ca9ea21c7"
      },
      "outputs": [
        {
          "output_type": "execute_result",
          "data": {
            "text/plain": [
              "['user_id,isbn,rating,authors,description,genres,pages,title,publishYear,publishMonth,publishDay']"
            ]
          },
          "metadata": {},
          "execution_count": 12
        }
      ],
      "source": [
        "books.take(1)"
      ]
    },
    {
      "cell_type": "code",
      "execution_count": null,
      "metadata": {
        "colab": {
          "base_uri": "https://localhost:8080/"
        },
        "id": "lL1by255IIc2",
        "outputId": "65ee08d0-3f74-4934-9ce0-d3b3c9828ad5"
      },
      "outputs": [
        {
          "output_type": "execute_result",
          "data": {
            "text/plain": [
              "['isbn,genre']"
            ]
          },
          "metadata": {},
          "execution_count": 13
        }
      ],
      "source": [
        "genres.take(1)"
      ]
    },
    {
      "cell_type": "code",
      "source": [
        "ratings.take(1)"
      ],
      "metadata": {
        "colab": {
          "base_uri": "https://localhost:8080/"
        },
        "id": "rPiLv9r_p660",
        "outputId": "89654968-3ff6-49ba-e219-ccb29c2fe230"
      },
      "execution_count": 10,
      "outputs": [
        {
          "output_type": "execute_result",
          "data": {
            "text/plain": [
              "['1,classic,3']"
            ]
          },
          "metadata": {},
          "execution_count": 10
        }
      ]
    },
    {
      "cell_type": "markdown",
      "metadata": {
        "id": "vxYDIqil2fK9"
      },
      "source": [
        "# MapReduce 1: Join"
      ]
    },
    {
      "cell_type": "code",
      "source": [
        "import time"
      ],
      "metadata": {
        "id": "Q81Z1NCPgvvr"
      },
      "execution_count": 12,
      "outputs": []
    },
    {
      "cell_type": "code",
      "source": [
        "def isbn_books(row):\n",
        "  fields = row.split(\",\")\n",
        "  return (fields[1], fields[2])\n",
        "\n",
        "def isbn_genres(row):\n",
        "  fields = row.split(\",\")\n",
        "  return (fields[0], fields[1])\n",
        "\n",
        "books_part = books.map(isbn_books)\n",
        "genres_part = genres.map(isbn_genres)\n",
        "\n",
        "books_part = books_part.partitionBy(8)\n",
        "genres_part = genres_part.partitionBy(8)\n",
        "\n",
        "join_rdd = books_part.join(genres_part) \\\n",
        "                .map(lambda pairs: pairs[1])\n",
        "start = time.perf_counter()\n",
        "join_output = join_rdd.collect()\n",
        "end = time.perf_counter()\n",
        "print(\"Execution time: \" + str(end - start))"
      ],
      "metadata": {
        "colab": {
          "base_uri": "https://localhost:8080/"
        },
        "id": "LLFWjn-DfC6P",
        "outputId": "bc3e38b3-e2db-4b12-b14b-a7f2bd37821d"
      },
      "execution_count": 16,
      "outputs": [
        {
          "output_type": "stream",
          "name": "stdout",
          "text": [
            "Execution time: 129.90709262399923\n"
          ]
        }
      ]
    },
    {
      "cell_type": "code",
      "execution_count": 18,
      "metadata": {
        "id": "ZZtptroYTaUh",
        "colab": {
          "base_uri": "https://localhost:8080/"
        },
        "outputId": "593d787d-940d-4085-cc98-86c6cf8d9365"
      },
      "outputs": [
        {
          "output_type": "stream",
          "name": "stdout",
          "text": [
            "('5', 'classic')\n",
            "('5', 'fiction')\n",
            "('5', 'historical-fiction')\n",
            "('5', 'young-adult')\n",
            "('3', 'classic')\n",
            "('3', 'fiction')\n",
            "('3', 'historical-fiction')\n",
            "('3', 'young-adult')\n",
            "('4', 'classic')\n",
            "('4', 'fiction')\n",
            "('4', 'historical-fiction')\n",
            "('4', 'young-adult')\n",
            "('3', 'classic')\n",
            "('3', 'fiction')\n",
            "('3', 'historical-fiction')\n",
            "('3', 'young-adult')\n",
            "('5', 'classic')\n",
            "('5', 'fiction')\n",
            "('5', 'historical-fiction')\n",
            "('5', 'young-adult')\n"
          ]
        }
      ],
      "source": [
        "for i in range(0, 20):\n",
        "  print(join_output[i])"
      ]
    },
    {
      "cell_type": "markdown",
      "source": [
        "# MapReduce 2: Group By"
      ],
      "metadata": {
        "id": "7Ru2gpI9VlTx"
      }
    },
    {
      "cell_type": "code",
      "source": [
        "ratings_rdd = ratings.map(lambda row: (row.split(\",\")[1], row.split(\",\")[2])) \\\n",
        "                     .reduceByKey(lambda x, y: int(x)+int(y))\n",
        "start = time.perf_counter()\n",
        "ratings_output = ratings_rdd.collect()\n",
        "end = time.perf_counter()"
      ],
      "metadata": {
        "id": "NncV7L8DVkPJ"
      },
      "execution_count": 23,
      "outputs": []
    },
    {
      "cell_type": "code",
      "source": [
        "for i in ratings_output:\n",
        "  print(i)"
      ],
      "metadata": {
        "colab": {
          "base_uri": "https://localhost:8080/"
        },
        "id": "fRs1vVlDhKbg",
        "outputId": "a878df43-fccb-4082-d9f4-da48e8442e91"
      },
      "execution_count": 20,
      "outputs": [
        {
          "output_type": "stream",
          "name": "stdout",
          "text": [
            "('fantasy', 9885284)\n",
            "('horror', 1996196)\n",
            "('philosophy', 1176248)\n",
            "('spirituality', 469554)\n",
            "('music', 166195)\n",
            "('young-adult', 7507825)\n",
            "('psychology', 801236)\n",
            "('religion', 750382)\n",
            "('manga', 116093)\n",
            "('science-fiction', 3638978)\n",
            "('chick-lit', 2117020)\n",
            "('contemporary', 5370340)\n",
            "('fiction', 19869613)\n",
            "('historical-fiction', 5210228)\n",
            "('romance', 6331677)\n",
            "('crime', 2705488)\n",
            "('christian', 443905)\n",
            "('travel', 419692)\n",
            "('comic', 531088)\n",
            "('graphic-novels', 539440)\n",
            "('biography', 1415946)\n",
            "('business', 330201)\n",
            "('history', 1340160)\n",
            "('science', 636070)\n",
            "('cookbook', 69113)\n",
            "('humor-and-comedy', 3559)\n",
            "('mystery', 4622843)\n",
            "('book', 1070730)\n",
            "('self-help', 554385)\n",
            "('paranormal', 2588188)\n",
            "('suspense', 2548798)\n",
            "('memoir', 1203974)\n",
            "('art', 231543)\n",
            "('classic', 8557100)\n",
            "('poetry', 810084)\n",
            "('thriller', 3376067)\n",
            "('nonfiction', 2329726)\n",
            "('sport', 115297)\n",
            "('gay-and-lesbian', 610)\n"
          ]
        }
      ]
    },
    {
      "cell_type": "code",
      "source": [
        "print(\"Execution time: \" + str(end - start))"
      ],
      "metadata": {
        "colab": {
          "base_uri": "https://localhost:8080/"
        },
        "id": "cmZpXkKaFW63",
        "outputId": "28897965-b64b-46af-ddf8-1a8fbc43b5d7"
      },
      "execution_count": 24,
      "outputs": [
        {
          "output_type": "stream",
          "name": "stdout",
          "text": [
            "Execution time: 72.9229081980011\n"
          ]
        }
      ]
    },
    {
      "cell_type": "markdown",
      "source": [
        "# Stop Spark"
      ],
      "metadata": {
        "id": "35Du49FOhUIq"
      }
    },
    {
      "cell_type": "code",
      "execution_count": 25,
      "metadata": {
        "id": "NMgsmuqHtPZ-"
      },
      "outputs": [],
      "source": [
        "# Stopping Spark:\n",
        "sc.stop()\n",
        "spark.stop()"
      ]
    }
  ],
  "metadata": {
    "colab": {
      "toc_visible": true,
      "provenance": []
    },
    "kernelspec": {
      "display_name": "Python 3 (ipykernel)",
      "language": "python",
      "name": "python3"
    },
    "language_info": {
      "codemirror_mode": {
        "name": "ipython",
        "version": 3
      },
      "file_extension": ".py",
      "mimetype": "text/x-python",
      "name": "python",
      "nbconvert_exporter": "python",
      "pygments_lexer": "ipython3",
      "version": "3.9.5"
    }
  },
  "nbformat": 4,
  "nbformat_minor": 0
}