{
 "cells": [
  {
   "cell_type": "code",
   "execution_count": 1,
   "metadata": {},
   "outputs": [
    {
     "name": "stdout",
     "output_type": "stream",
     "text": [
      "\u001b[1A\u001b[1B\u001b[0G\u001b[?25l[+] Building 0.0s (0/1)                                          docker:default\n",
      " => [internal] load build definition from Dockerfile                       0.0s\n",
      "\u001b[?25h\u001b[1A\u001b[1A\u001b[0G\u001b[?25l[+] Building 0.2s (1/2)                                          docker:default\n",
      "\u001b[34m => [internal] load build definition from Dockerfile                       0.0s\n",
      "\u001b[0m\u001b[34m => => transferring dockerfile: 381B                                       0.0s\n",
      "\u001b[0m => [internal] load metadata for docker.io/library/mysql:latest            0.2s\n",
      "\u001b[?25h\u001b[1A\u001b[1A\u001b[1A\u001b[1A\u001b[0G\u001b[?25l[+] Building 0.3s (1/2)                                          docker:default\n",
      "\u001b[34m => [internal] load build definition from Dockerfile                       0.0s\n",
      "\u001b[0m\u001b[34m => => transferring dockerfile: 381B                                       0.0s\n",
      "\u001b[0m => [internal] load metadata for docker.io/library/mysql:latest            0.3s\n",
      "\u001b[?25h\u001b[1A\u001b[1A\u001b[1A\u001b[1A\u001b[0G\u001b[?25l[+] Building 0.5s (1/2)                                          docker:default\n",
      "\u001b[34m => [internal] load build definition from Dockerfile                       0.0s\n",
      "\u001b[0m\u001b[34m => => transferring dockerfile: 381B                                       0.0s\n",
      "\u001b[0m => [internal] load metadata for docker.io/library/mysql:latest            0.5s\n",
      "\u001b[?25h\u001b[1A\u001b[1A\u001b[1A\u001b[1A\u001b[0G\u001b[?25l[+] Building 0.6s (1/2)                                          docker:default\n",
      "\u001b[34m => [internal] load build definition from Dockerfile                       0.0s\n",
      "\u001b[0m\u001b[34m => => transferring dockerfile: 381B                                       0.0s\n",
      "\u001b[0m => [internal] load metadata for docker.io/library/mysql:latest            0.6s\n",
      "\u001b[?25h\u001b[1A\u001b[1A\u001b[1A\u001b[1A\u001b[0G\u001b[?25l[+] Building 0.8s (1/2)                                          docker:default\n",
      "\u001b[34m => [internal] load build definition from Dockerfile                       0.0s\n",
      "\u001b[0m\u001b[34m => => transferring dockerfile: 381B                                       0.0s\n",
      "\u001b[0m => [internal] load metadata for docker.io/library/mysql:latest            0.8s\n",
      "\u001b[?25h\u001b[1A\u001b[1A\u001b[1A\u001b[1A\u001b[0G\u001b[?25l[+] Building 0.8s (2/2)                                          docker:default\n",
      "\u001b[34m => [internal] load build definition from Dockerfile                       0.0s\n",
      "\u001b[0m\u001b[34m => => transferring dockerfile: 381B                                       0.0s\n",
      "\u001b[0m\u001b[34m => [internal] load metadata for docker.io/library/mysql:latest            0.8s\n",
      "\u001b[0m\u001b[?25h\u001b[1A\u001b[1A\u001b[1A\u001b[1A\u001b[0G\u001b[?25l[+] Building 0.9s (7/7) FINISHED                                 docker:default\n",
      "\u001b[34m => [internal] load build definition from Dockerfile                       0.0s\n",
      "\u001b[0m\u001b[34m => => transferring dockerfile: 381B                                       0.0s\n",
      "\u001b[0m\u001b[34m => [internal] load metadata for docker.io/library/mysql:latest            0.8s\n",
      "\u001b[0m\u001b[34m => [internal] load .dockerignore                                          0.0s\n",
      "\u001b[0m\u001b[34m => => transferring context: 2B                                            0.0s\n",
      "\u001b[0m\u001b[34m => [internal] load build context                                          0.0s\n",
      "\u001b[0m\u001b[34m => => transferring context: 27B                                           0.0s\n",
      "\u001b[0m\u001b[34m => [1/2] FROM docker.io/library/mysql:latest@sha256:146682692a3aa409eae7  0.0s\n",
      "\u001b[0m\u001b[34m => CACHED [2/2] COPY my.cnf /etc/mysql/my.cnf                             0.0s\n",
      "\u001b[0m\u001b[34m => exporting to image                                                     0.0s\n",
      "\u001b[0m\u001b[34m => => exporting layers                                                    0.0s\n",
      "\u001b[0m\u001b[34m => => writing image sha256:7db5145eb9ab639b00f58743352a4bf06f99f6e8a8fb9  0.0s\n",
      "\u001b[0m\u001b[34m => => naming to docker.io/library/mysql-docker                            0.0s\n",
      "\u001b[0m\u001b[?25h\n",
      " \u001b[33m2 warnings found (use docker --debug to expand):\n",
      "\u001b[0m - SecretsUsedInArgOrEnv: Do not use ARG or ENV instructions for sensitive data (ENV \"MYSQL_ROOT_PASSWORD\") (line 5)\n",
      " - SecretsUsedInArgOrEnv: Do not use ARG or ENV instructions for sensitive data (ENV \"MYSQL_PASSWORD\") (line 8)\n",
      "docker: Error response from daemon: Conflict. The container name \"/mysql-container\" is already in use by container \"42dfb4ed425751a6652a827d03a7e522319ab2e0daf016aed316b3c4e8bc0ec1\". You have to remove (or rename) that container to be able to reuse that name.\n",
      "See 'docker run --help'.\n"
     ]
    }
   ],
   "source": [
    "!docker build -t mysql-docker .\n",
    "!docker run --name mysql-container -d mysql-docker"
   ]
  },
  {
   "cell_type": "code",
   "execution_count": 3,
   "metadata": {},
   "outputs": [
    {
     "name": "stdout",
     "output_type": "stream",
     "text": [
      "CONTAINER ID   IMAGE          COMMAND                  CREATED         STATUS                  PORTS                 NAMES\n",
      "42dfb4ed4257   mysql-docker   \"docker-entrypoint.s…\"   2 seconds ago   Up Less than a second   3306/tcp, 33060/tcp   mysql-container\n"
     ]
    }
   ],
   "source": [
    "!docker ps"
   ]
  },
  {
   "cell_type": "code",
   "execution_count": 11,
   "metadata": {},
   "outputs": [
    {
     "name": "stdout",
     "output_type": "stream",
     "text": [
      "Quoted CSV file saved to: datasets/cleaned_books.csv\n"
     ]
    }
   ],
   "source": []
  },
  {
   "cell_type": "code",
   "execution_count": 25,
   "metadata": {},
   "outputs": [
    {
     "name": "stdout",
     "output_type": "stream",
     "text": [
      "Successfully copied 3.72GB to mysql-container:/var/lib/mysql-files/\n"
     ]
    }
   ],
   "source": [
    "!docker cp datasets/ mysql-container:/var/lib/mysql-files/"
   ]
  },
  {
   "cell_type": "code",
   "execution_count": 22,
   "metadata": {},
   "outputs": [],
   "source": [
    "!docker exec mysql-container iconv -f ISO-8859-1 -t UTF-8 /var/lib/mysql-files/datasets/ratings.csv -o /var/lib/mysql-files/datasets/ratings.csv"
   ]
  },
  {
   "cell_type": "code",
   "execution_count": 27,
   "metadata": {},
   "outputs": [
    {
     "name": "stdout",
     "output_type": "stream",
     "text": [
      "mysql: [Warning] Using a password on the command line interface can be insecure.\n",
      "mysql: [Warning] Using a password on the command line interface can be insecure.\n",
      "mysql: [Warning] Using a password on the command line interface can be insecure.\n"
     ]
    }
   ],
   "source": [
    "!docker exec -i mysql-container mysql -u root -prootpassword < scripts/load_books.sql\n",
    "!docker exec -i mysql-container mysql -u root -prootpassword < scripts/load_users.sql\n",
    "!docker exec -i mysql-container mysql -u root -prootpassword < scripts/load_ratings.sql"
   ]
  },
  {
   "cell_type": "code",
   "execution_count": 28,
   "metadata": {},
   "outputs": [
    {
     "name": "stdout",
     "output_type": "stream",
     "text": [
      "mysql: [Warning] Using a password on the command line interface can be insecure.\n"
     ]
    }
   ],
   "source": [
    "!docker exec -i mysql-container mysql -u root -prootpassword < scripts/ratings_fk.sql"
   ]
  },
  {
   "cell_type": "code",
   "execution_count": 24,
   "metadata": {},
   "outputs": [
    {
     "name": "stdout",
     "output_type": "stream",
     "text": [
      "CSV file updated successfully!\n"
     ]
    }
   ],
   "source": [
    "# # Open the file for reading and writing (in-place modification)\n",
    "# with open(\"datasets/books_and_genres.csv\", \"r+\", encoding=\"utf-8\") as f:\n",
    "#     data = f.readlines()\n",
    "    \n",
    "#     # Prepend \"id\" to the first line\n",
    "#     data[0] = \"id\" + data[0]\n",
    "\n",
    "#     # Move the cursor back to the start of the file and write the updated content\n",
    "#     f.seek(0)\n",
    "#     f.writelines(data)\n",
    "\n",
    "# print(\"CSV file updated successfully!\")"
   ]
  },
  {
   "cell_type": "code",
   "execution_count": 36,
   "metadata": {},
   "outputs": [
    {
     "name": "stdout",
     "output_type": "stream",
     "text": [
      "mysql: [Warning] Using a password on the command line interface can be insecure.\n"
     ]
    }
   ],
   "source": [
    "!docker exec -i mysql-container mysql -u root -prootpassword < scripts/load_genres.sql"
   ]
  },
  {
   "cell_type": "code",
   "execution_count": 1,
   "metadata": {},
   "outputs": [
    {
     "name": "stdout",
     "output_type": "stream",
     "text": [
      "mysql-container\n",
      "mysql-container\n"
     ]
    }
   ],
   "source": [
    "!docker container stop mysql-container\n",
    "!docker container rm mysql-container"
   ]
  }
 ],
 "metadata": {
  "kernelspec": {
   "display_name": "Python 3",
   "language": "python",
   "name": "python3"
  },
  "language_info": {
   "codemirror_mode": {
    "name": "ipython",
    "version": 3
   },
   "file_extension": ".py",
   "mimetype": "text/x-python",
   "name": "python",
   "nbconvert_exporter": "python",
   "pygments_lexer": "ipython3",
   "version": "3.13.1"
  }
 },
 "nbformat": 4,
 "nbformat_minor": 2
}
