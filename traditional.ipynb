{
 "cells": [
  {
   "cell_type": "code",
   "execution_count": 174,
   "metadata": {},
   "outputs": [
    {
     "name": "stdout",
     "output_type": "stream",
     "text": [
      "\u001b[1A\u001b[1B\u001b[0G\u001b[?25l[+] Building 0.0s (0/1)                                          docker:default\n",
      "\u001b[?25h\u001b[1A\u001b[0G\u001b[?25l[+] Building 0.2s (1/2)                                          docker:default\n",
      "\u001b[34m => [internal] load build definition from Dockerfile                       0.0s\n",
      "\u001b[0m\u001b[34m => => transferring dockerfile: 381B                                       0.0s\n",
      "\u001b[0m => [internal] load metadata for docker.io/library/mysql:latest            0.2s\n",
      "\u001b[?25h\u001b[1A\u001b[1A\u001b[1A\u001b[1A\u001b[0G\u001b[?25l[+] Building 0.3s (1/2)                                          docker:default\n",
      "\u001b[34m => [internal] load build definition from Dockerfile                       0.0s\n",
      "\u001b[0m\u001b[34m => => transferring dockerfile: 381B                                       0.0s\n",
      "\u001b[0m => [internal] load metadata for docker.io/library/mysql:latest            0.3s\n",
      "\u001b[?25h\u001b[1A\u001b[1A\u001b[1A\u001b[1A\u001b[0G\u001b[?25l[+] Building 0.5s (1/2)                                          docker:default\n",
      "\u001b[34m => [internal] load build definition from Dockerfile                       0.0s\n",
      "\u001b[0m\u001b[34m => => transferring dockerfile: 381B                                       0.0s\n",
      "\u001b[0m => [internal] load metadata for docker.io/library/mysql:latest            0.5s\n",
      "\u001b[?25h\u001b[1A\u001b[1A\u001b[1A\u001b[1A\u001b[0G\u001b[?25l[+] Building 0.6s (1/2)                                          docker:default\n",
      "\u001b[34m => [internal] load build definition from Dockerfile                       0.0s\n",
      "\u001b[0m\u001b[34m => => transferring dockerfile: 381B                                       0.0s\n",
      "\u001b[0m => [internal] load metadata for docker.io/library/mysql:latest            0.6s\n",
      "\u001b[?25h\u001b[1A\u001b[1A\u001b[1A\u001b[1A\u001b[0G\u001b[?25l[+] Building 0.8s (1/2)                                          docker:default\n",
      "\u001b[34m => [internal] load build definition from Dockerfile                       0.0s\n",
      "\u001b[0m\u001b[34m => => transferring dockerfile: 381B                                       0.0s\n",
      "\u001b[0m => [internal] load metadata for docker.io/library/mysql:latest            0.8s\n",
      "\u001b[?25h\u001b[1A\u001b[1A\u001b[1A\u001b[1A\u001b[0G\u001b[?25l[+] Building 0.9s (1/2)                                          docker:default\n",
      "\u001b[34m => [internal] load build definition from Dockerfile                       0.0s\n",
      "\u001b[0m\u001b[34m => => transferring dockerfile: 381B                                       0.0s\n",
      "\u001b[0m => [internal] load metadata for docker.io/library/mysql:latest            0.9s\n",
      "\u001b[?25h\u001b[1A\u001b[1A\u001b[1A\u001b[1A\u001b[0G\u001b[?25l[+] Building 1.1s (1/2)                                          docker:default\n",
      "\u001b[34m => [internal] load build definition from Dockerfile                       0.0s\n",
      "\u001b[0m\u001b[34m => => transferring dockerfile: 381B                                       0.0s\n",
      "\u001b[0m => [internal] load metadata for docker.io/library/mysql:latest            1.1s\n",
      "\u001b[?25h\u001b[1A\u001b[1A\u001b[1A\u001b[1A\u001b[0G\u001b[?25l[+] Building 1.2s (1/2)                                          docker:default\n",
      "\u001b[34m => [internal] load build definition from Dockerfile                       0.0s\n",
      "\u001b[0m\u001b[34m => => transferring dockerfile: 381B                                       0.0s\n",
      "\u001b[0m => [internal] load metadata for docker.io/library/mysql:latest            1.2s\n",
      "\u001b[?25h\u001b[1A\u001b[1A\u001b[1A\u001b[1A\u001b[0G\u001b[?25l[+] Building 1.4s (1/2)                                          docker:default\n",
      "\u001b[34m => [internal] load build definition from Dockerfile                       0.0s\n",
      "\u001b[0m\u001b[34m => => transferring dockerfile: 381B                                       0.0s\n",
      "\u001b[0m => [internal] load metadata for docker.io/library/mysql:latest            1.4s\n",
      "\u001b[?25h\u001b[1A\u001b[1A\u001b[1A\u001b[1A\u001b[0G\u001b[?25l[+] Building 1.5s (2/2)                                          docker:default\n",
      "\u001b[34m => [internal] load build definition from Dockerfile                       0.0s\n",
      "\u001b[0m\u001b[34m => => transferring dockerfile: 381B                                       0.0s\n",
      "\u001b[0m\u001b[34m => [internal] load metadata for docker.io/library/mysql:latest            1.4s\n",
      "\u001b[0m\u001b[?25h\u001b[1A\u001b[1A\u001b[1A\u001b[1A\u001b[0G\u001b[?25l[+] Building 1.6s (7/7) FINISHED                                 docker:default\n",
      "\u001b[34m => [internal] load build definition from Dockerfile                       0.0s\n",
      "\u001b[0m\u001b[34m => => transferring dockerfile: 381B                                       0.0s\n",
      "\u001b[0m\u001b[34m => [internal] load metadata for docker.io/library/mysql:latest            1.4s\n",
      "\u001b[0m\u001b[34m => [internal] load .dockerignore                                          0.0s\n",
      "\u001b[0m\u001b[34m => => transferring context: 2B                                            0.0s\n",
      "\u001b[0m\u001b[34m => [internal] load build context                                          0.0s\n",
      "\u001b[0m\u001b[34m => => transferring context: 27B                                           0.0s\n",
      "\u001b[0m\u001b[34m => [1/2] FROM docker.io/library/mysql:latest@sha256:146682692a3aa409eae7  0.0s\n",
      "\u001b[0m\u001b[34m => CACHED [2/2] COPY my.cnf /etc/mysql/my.cnf                             0.0s\n",
      "\u001b[0m\u001b[34m => exporting to image                                                     0.0s\n",
      "\u001b[0m\u001b[34m => => exporting layers                                                    0.0s\n",
      "\u001b[0m\u001b[34m => => writing image sha256:7db5145eb9ab639b00f58743352a4bf06f99f6e8a8fb9  0.0s\n",
      "\u001b[0m\u001b[34m => => naming to docker.io/library/mysql-docker                            0.0s\n",
      "\u001b[0m\u001b[?25h\n",
      " \u001b[33m2 warnings found (use docker --debug to expand):\n",
      "\u001b[0m - SecretsUsedInArgOrEnv: Do not use ARG or ENV instructions for sensitive data (ENV \"MYSQL_ROOT_PASSWORD\") (line 5)\n",
      " - SecretsUsedInArgOrEnv: Do not use ARG or ENV instructions for sensitive data (ENV \"MYSQL_PASSWORD\") (line 8)\n",
      "6d2409e16865dee03719b841ba0edb9cecb2ae46fb5f6f202e91905325bb4fba\n"
     ]
    }
   ],
   "source": [
    "#Use this to start the containers\n",
    "\n",
    "!docker build -t mysql-docker .\n",
    "!docker run --name mysql-container -d mysql-docker"
   ]
  },
  {
   "cell_type": "code",
   "execution_count": 175,
   "metadata": {},
   "outputs": [
    {
     "name": "stdout",
     "output_type": "stream",
     "text": [
      "CONTAINER ID   IMAGE          COMMAND                  CREATED          STATUS          PORTS                 NAMES\n",
      "6d2409e16865   mysql-docker   \"docker-entrypoint.s…\"   13 seconds ago   Up 12 seconds   3306/tcp, 33060/tcp   mysql-container\n"
     ]
    }
   ],
   "source": [
    "!docker ps"
   ]
  },
  {
   "cell_type": "code",
   "execution_count": 176,
   "metadata": {},
   "outputs": [
    {
     "name": "stdout",
     "output_type": "stream",
     "text": [
      "Successfully copied 4.25GB to mysql-container:/var/lib/mysql-files/\n"
     ]
    }
   ],
   "source": [
    "!docker cp datasets/ mysql-container:/var/lib/mysql-files/"
   ]
  },
  {
   "cell_type": "code",
   "execution_count": 164,
   "metadata": {},
   "outputs": [],
   "source": [
    "# !docker exec mysql-container iconv -f ISO-8859-1 -t UTF-8 /var/lib/mysql-files/datasets/ratings.csv -o /var/lib/mysql-files/datasets/ratings.csv"
   ]
  },
  {
   "cell_type": "code",
   "execution_count": 177,
   "metadata": {},
   "outputs": [
    {
     "name": "stdout",
     "output_type": "stream",
     "text": [
      "mysql: [Warning] Using a password on the command line interface can be insecure.\n",
      "mysql: [Warning] Using a password on the command line interface can be insecure.\n"
     ]
    }
   ],
   "source": [
    "!docker exec -i mysql-container mysql -u root -prootpassword < scripts/load_books.sql\n",
    "!docker exec -i mysql-container mysql -u root -prootpassword < scripts/load_users.sql\n"
   ]
  },
  {
   "cell_type": "code",
   "execution_count": 178,
   "metadata": {},
   "outputs": [
    {
     "name": "stdout",
     "output_type": "stream",
     "text": [
      "mysql: [Warning] Using a password on the command line interface can be insecure.\n"
     ]
    }
   ],
   "source": [
    "!docker exec -i mysql-container mysql -u root -prootpassword < scripts/load_ratings.sql"
   ]
  },
  {
   "cell_type": "code",
   "execution_count": 179,
   "metadata": {},
   "outputs": [
    {
     "name": "stdout",
     "output_type": "stream",
     "text": [
      "mysql: [Warning] Using a password on the command line interface can be insecure.\n"
     ]
    }
   ],
   "source": [
    "!docker exec -i mysql-container mysql -u root -prootpassword < scripts/load_genres.sql"
   ]
  },
  {
   "cell_type": "code",
   "execution_count": 180,
   "metadata": {},
   "outputs": [
    {
     "name": "stdout",
     "output_type": "stream",
     "text": [
      "mysql: [Warning] Using a password on the command line interface can be insecure.\n"
     ]
    }
   ],
   "source": [
    "!docker exec -i mysql-container mysql -u root -prootpassword < scripts/find_common_books.sql"
   ]
  },
  {
   "cell_type": "code",
   "execution_count": 181,
   "metadata": {},
   "outputs": [
    {
     "name": "stdout",
     "output_type": "stream",
     "text": [
      "mysql: [Warning] Using a password on the command line interface can be insecure.\n"
     ]
    }
   ],
   "source": [
    "!docker exec -i mysql-container mysql -u root -prootpassword < scripts/ratings_fk.sql"
   ]
  },
  {
   "cell_type": "code",
   "execution_count": 182,
   "metadata": {},
   "outputs": [
    {
     "name": "stdout",
     "output_type": "stream",
     "text": [
      "mysql: [Warning] Using a password on the command line interface can be insecure.\n"
     ]
    }
   ],
   "source": [
    "!docker exec -i mysql-container mysql -u root -prootpassword < scripts/load_more_users.sql"
   ]
  },
  {
   "cell_type": "code",
   "execution_count": 183,
   "metadata": {},
   "outputs": [
    {
     "name": "stdout",
     "output_type": "stream",
     "text": [
      "mysql: [Warning] Using a password on the command line interface can be insecure.\n"
     ]
    }
   ],
   "source": [
    "!docker exec -i mysql-container mysql -u root -prootpassword < scripts/create_isbn_genre.sql"
   ]
  },
  {
   "cell_type": "code",
   "execution_count": 184,
   "metadata": {},
   "outputs": [
    {
     "name": "stdout",
     "output_type": "stream",
     "text": [
      "mysql: [Warning] Using a password on the command line interface can be insecure.\n"
     ]
    }
   ],
   "source": [
    "!docker exec -i mysql-container mysql -u root -prootpassword < scripts/create_isbn_genres_csv.sql"
   ]
  },
  {
   "cell_type": "code",
   "execution_count": 185,
   "metadata": {},
   "outputs": [
    {
     "name": "stdout",
     "output_type": "stream",
     "text": [
      "Successfully copied 144kB to /home/mango/Documents/UCD/COMP30770/bigDataAssignment/datasets/isbn_genres.csv\n"
     ]
    }
   ],
   "source": [
    "!docker cp mysql-container:/var/lib/mysql-files/isbn_genres.csv ./datasets/isbn_genres.csv"
   ]
  },
  {
   "cell_type": "code",
   "execution_count": 186,
   "metadata": {},
   "outputs": [],
   "source": [
    "import csv\n",
    "\n",
    "# Input and output file paths\n",
    "input_file = 'datasets/isbn_genres.csv'\n",
    "output_file = 'datasets/m2m_isbn_genres.csv'\n",
    "\n",
    "# Open the input and output files\n",
    "with open(input_file, 'r') as infile, open(output_file, 'w', newline='') as outfile:\n",
    "    reader = csv.reader(infile)\n",
    "    writer = csv.writer(outfile)\n",
    "\n",
    "    # Write the header row to the output file\n",
    "    writer.writerow(['ISBN', 'genre'])\n",
    "\n",
    "    # Process each row in the input file\n",
    "    for row in reader:\n",
    "        isbn, genres = row\n",
    "        # Split the genres string into individual genres\n",
    "        for genre in genres.split():\n",
    "            # Write each (ISBN, genre) pair to the output file\n",
    "            writer.writerow([isbn, genre])"
   ]
  },
  {
   "cell_type": "code",
   "execution_count": 187,
   "metadata": {},
   "outputs": [
    {
     "name": "stdout",
     "output_type": "stream",
     "text": [
      "Successfully copied 258kB to mysql-container:/var/lib/mysql-files/datasets/m2m_isbn_genres.csv\n"
     ]
    }
   ],
   "source": [
    "!docker cp datasets/m2m_isbn_genres.csv mysql-container:/var/lib/mysql-files/datasets/m2m_isbn_genres.csv"
   ]
  },
  {
   "cell_type": "code",
   "execution_count": 188,
   "metadata": {},
   "outputs": [
    {
     "name": "stdout",
     "output_type": "stream",
     "text": [
      "mysql: [Warning] Using a password on the command line interface can be insecure.\n"
     ]
    }
   ],
   "source": [
    "!docker exec -i mysql-container mysql -u root -prootpassword < scripts/remove_temp.sql"
   ]
  },
  {
   "cell_type": "code",
   "execution_count": 190,
   "metadata": {},
   "outputs": [
    {
     "name": "stdout",
     "output_type": "stream",
     "text": [
      "mysql: [Warning] Using a password on the command line interface can be insecure.\n"
     ]
    }
   ],
   "source": [
    "!docker exec -i mysql-container mysql -u root -prootpassword < scripts/load_isbn_genres.sql"
   ]
  },
  {
   "cell_type": "code",
   "execution_count": 2,
   "metadata": {},
   "outputs": [
    {
     "name": "stdout",
     "output_type": "stream",
     "text": [
      "mysql: [Warning] Using a password on the command line interface can be insecure.\n"
     ]
    }
   ],
   "source": [
    "!docker exec -i mysql-container mysql -u root -prootpassword < scripts/book_ranking.sql"
   ]
  },
  {
   "cell_type": "code",
   "execution_count": 3,
   "metadata": {},
   "outputs": [
    {
     "name": "stdout",
     "output_type": "stream",
     "text": [
      "mysql-container\n",
      "mysql-container\n"
     ]
    }
   ],
   "source": [
    "# #Use this to stop the continers\n",
    "\n",
    "# !docker container stop mysql-container\n",
    "# !docker container rm mysql-container"
   ]
  }
 ],
 "metadata": {
  "kernelspec": {
   "display_name": "Python 3",
   "language": "python",
   "name": "python3"
  },
  "language_info": {
   "codemirror_mode": {
    "name": "ipython",
    "version": 3
   },
   "file_extension": ".py",
   "mimetype": "text/x-python",
   "name": "python",
   "nbconvert_exporter": "python",
   "pygments_lexer": "ipython3",
   "version": "3.13.1"
  }
 },
 "nbformat": 4,
 "nbformat_minor": 2
}
